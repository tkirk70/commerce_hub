{
 "cells": [
  {
   "cell_type": "code",
   "execution_count": 1,
   "id": "eff50762",
   "metadata": {},
   "outputs": [],
   "source": [
    "import pandas as pd"
   ]
  },
  {
   "cell_type": "code",
   "execution_count": 2,
   "id": "cc1f7262",
   "metadata": {},
   "outputs": [],
   "source": [
    "df = pd.read_csv('one_year.csv')"
   ]
  },
  {
   "cell_type": "code",
   "execution_count": 3,
   "id": "444ad3a6",
   "metadata": {},
   "outputs": [
    {
     "data": {
      "text/plain": [
       "9894"
      ]
     },
     "execution_count": 3,
     "metadata": {},
     "output_type": "execute_result"
    }
   ],
   "source": [
    "df[\"Customer Order Number\"].count()"
   ]
  },
  {
   "cell_type": "code",
   "execution_count": 4,
   "id": "9d47bb04",
   "metadata": {},
   "outputs": [],
   "source": [
    "df_invoice = pd.read_csv('invoice.csv')"
   ]
  },
  {
   "cell_type": "code",
   "execution_count": 5,
   "id": "7c405f42",
   "metadata": {},
   "outputs": [
    {
     "data": {
      "text/html": [
       "<div>\n",
       "<style scoped>\n",
       "    .dataframe tbody tr th:only-of-type {\n",
       "        vertical-align: middle;\n",
       "    }\n",
       "\n",
       "    .dataframe tbody tr th {\n",
       "        vertical-align: top;\n",
       "    }\n",
       "\n",
       "    .dataframe thead th {\n",
       "        text-align: right;\n",
       "    }\n",
       "</style>\n",
       "<table border=\"1\" class=\"dataframe\">\n",
       "  <thead>\n",
       "    <tr style=\"text-align: right;\">\n",
       "      <th></th>\n",
       "      <th>Action (Transaction)</th>\n",
       "      <th>Merchant (Order)</th>\n",
       "      <th>Vendor SKU (Order Line)</th>\n",
       "      <th>Merchant SKU (Order Line)</th>\n",
       "      <th>UPC (Order Line)</th>\n",
       "      <th>PO Number (Order)</th>\n",
       "      <th>Insert Date (Order)</th>\n",
       "      <th>Order Date (Order)</th>\n",
       "      <th>Invoice Date (Transaction)</th>\n",
       "      <th>Invoice Number (Transaction)</th>\n",
       "      <th>Invoice Unit Cost (Transaction Line)</th>\n",
       "      <th>Invoice Unit Cost Currency (Transaction Line)</th>\n",
       "      <th>Invoice Total (Transaction)</th>\n",
       "      <th>Invoice Total Currency (Transaction)</th>\n",
       "    </tr>\n",
       "  </thead>\n",
       "  <tbody>\n",
       "    <tr>\n",
       "      <th>0</th>\n",
       "      <td>Ship</td>\n",
       "      <td>Macy's</td>\n",
       "      <td>NaN</td>\n",
       "      <td>NaN</td>\n",
       "      <td>6.862500e+11</td>\n",
       "      <td>38371305</td>\n",
       "      <td>5/25/2021</td>\n",
       "      <td>5/25/2021</td>\n",
       "      <td>NaN</td>\n",
       "      <td>NaN</td>\n",
       "      <td>8.18</td>\n",
       "      <td>USD</td>\n",
       "      <td>0.0</td>\n",
       "      <td>USD</td>\n",
       "    </tr>\n",
       "    <tr>\n",
       "      <th>1</th>\n",
       "      <td>Ship</td>\n",
       "      <td>Macy's</td>\n",
       "      <td>NaN</td>\n",
       "      <td>NaN</td>\n",
       "      <td>6.862500e+11</td>\n",
       "      <td>38371305</td>\n",
       "      <td>5/25/2021</td>\n",
       "      <td>5/25/2021</td>\n",
       "      <td>NaN</td>\n",
       "      <td>NaN</td>\n",
       "      <td>8.18</td>\n",
       "      <td>USD</td>\n",
       "      <td>0.0</td>\n",
       "      <td>USD</td>\n",
       "    </tr>\n",
       "    <tr>\n",
       "      <th>2</th>\n",
       "      <td>Ship</td>\n",
       "      <td>Macy's</td>\n",
       "      <td>NaN</td>\n",
       "      <td>NaN</td>\n",
       "      <td>8.541300e+11</td>\n",
       "      <td>38346698</td>\n",
       "      <td>5/25/2021</td>\n",
       "      <td>5/25/2021</td>\n",
       "      <td>NaN</td>\n",
       "      <td>NaN</td>\n",
       "      <td>9.60</td>\n",
       "      <td>USD</td>\n",
       "      <td>0.0</td>\n",
       "      <td>USD</td>\n",
       "    </tr>\n",
       "    <tr>\n",
       "      <th>3</th>\n",
       "      <td>Ship</td>\n",
       "      <td>Macy's</td>\n",
       "      <td>NaN</td>\n",
       "      <td>NaN</td>\n",
       "      <td>6.862500e+11</td>\n",
       "      <td>38371382</td>\n",
       "      <td>5/25/2021</td>\n",
       "      <td>5/25/2021</td>\n",
       "      <td>NaN</td>\n",
       "      <td>NaN</td>\n",
       "      <td>8.18</td>\n",
       "      <td>USD</td>\n",
       "      <td>0.0</td>\n",
       "      <td>USD</td>\n",
       "    </tr>\n",
       "    <tr>\n",
       "      <th>4</th>\n",
       "      <td>Ship</td>\n",
       "      <td>Macy's</td>\n",
       "      <td>NaN</td>\n",
       "      <td>NaN</td>\n",
       "      <td>6.862500e+11</td>\n",
       "      <td>38371382</td>\n",
       "      <td>5/25/2021</td>\n",
       "      <td>5/25/2021</td>\n",
       "      <td>NaN</td>\n",
       "      <td>NaN</td>\n",
       "      <td>8.18</td>\n",
       "      <td>USD</td>\n",
       "      <td>0.0</td>\n",
       "      <td>USD</td>\n",
       "    </tr>\n",
       "  </tbody>\n",
       "</table>\n",
       "</div>"
      ],
      "text/plain": [
       "  Action (Transaction) Merchant (Order)  Vendor SKU (Order Line)  \\\n",
       "0                 Ship           Macy's                      NaN   \n",
       "1                 Ship           Macy's                      NaN   \n",
       "2                 Ship           Macy's                      NaN   \n",
       "3                 Ship           Macy's                      NaN   \n",
       "4                 Ship           Macy's                      NaN   \n",
       "\n",
       "   Merchant SKU (Order Line)  UPC (Order Line)  PO Number (Order)  \\\n",
       "0                        NaN      6.862500e+11           38371305   \n",
       "1                        NaN      6.862500e+11           38371305   \n",
       "2                        NaN      8.541300e+11           38346698   \n",
       "3                        NaN      6.862500e+11           38371382   \n",
       "4                        NaN      6.862500e+11           38371382   \n",
       "\n",
       "  Insert Date (Order) Order Date (Order) Invoice Date (Transaction)  \\\n",
       "0           5/25/2021          5/25/2021                        NaN   \n",
       "1           5/25/2021          5/25/2021                        NaN   \n",
       "2           5/25/2021          5/25/2021                        NaN   \n",
       "3           5/25/2021          5/25/2021                        NaN   \n",
       "4           5/25/2021          5/25/2021                        NaN   \n",
       "\n",
       "   Invoice Number (Transaction)  Invoice Unit Cost (Transaction Line)  \\\n",
       "0                           NaN                                  8.18   \n",
       "1                           NaN                                  8.18   \n",
       "2                           NaN                                  9.60   \n",
       "3                           NaN                                  8.18   \n",
       "4                           NaN                                  8.18   \n",
       "\n",
       "  Invoice Unit Cost Currency (Transaction Line)  Invoice Total (Transaction)  \\\n",
       "0                                           USD                          0.0   \n",
       "1                                           USD                          0.0   \n",
       "2                                           USD                          0.0   \n",
       "3                                           USD                          0.0   \n",
       "4                                           USD                          0.0   \n",
       "\n",
       "  Invoice Total Currency (Transaction)  \n",
       "0                                  USD  \n",
       "1                                  USD  \n",
       "2                                  USD  \n",
       "3                                  USD  \n",
       "4                                  USD  "
      ]
     },
     "execution_count": 5,
     "metadata": {},
     "output_type": "execute_result"
    }
   ],
   "source": [
    "df_invoice.head()"
   ]
  },
  {
   "cell_type": "code",
   "execution_count": 6,
   "id": "614dbdc7",
   "metadata": {},
   "outputs": [
    {
     "data": {
      "text/plain": [
       "24540"
      ]
     },
     "execution_count": 6,
     "metadata": {},
     "output_type": "execute_result"
    }
   ],
   "source": [
    "df_invoice['Invoice Unit Cost (Transaction Line)'].count()"
   ]
  },
  {
   "cell_type": "code",
   "execution_count": 7,
   "id": "1e7c596f",
   "metadata": {},
   "outputs": [
    {
     "data": {
      "text/plain": [
       "237804.94"
      ]
     },
     "execution_count": 7,
     "metadata": {},
     "output_type": "execute_result"
    }
   ],
   "source": [
    "df_invoice['Invoice Unit Cost (Transaction Line)'].sum()"
   ]
  },
  {
   "cell_type": "code",
   "execution_count": 8,
   "id": "2bdca869",
   "metadata": {},
   "outputs": [
    {
     "data": {
      "text/plain": [
       "9850"
      ]
     },
     "execution_count": 8,
     "metadata": {},
     "output_type": "execute_result"
    }
   ],
   "source": [
    "df_invoice[\"PO Number (Order)\"].nunique()"
   ]
  },
  {
   "cell_type": "code",
   "execution_count": 9,
   "id": "7c1e1047",
   "metadata": {},
   "outputs": [],
   "source": [
    "df_unique = df_invoice.drop_duplicates(subset=[\"PO Number (Order)\"])"
   ]
  },
  {
   "cell_type": "code",
   "execution_count": 10,
   "id": "0838f76d",
   "metadata": {},
   "outputs": [
    {
     "data": {
      "text/plain": [
       "9850"
      ]
     },
     "execution_count": 10,
     "metadata": {},
     "output_type": "execute_result"
    }
   ],
   "source": [
    "df_unique[\"PO Number (Order)\"].count()"
   ]
  },
  {
   "cell_type": "code",
   "execution_count": 11,
   "id": "a0099db8",
   "metadata": {},
   "outputs": [
    {
     "data": {
      "text/plain": [
       "96362.85"
      ]
     },
     "execution_count": 11,
     "metadata": {},
     "output_type": "execute_result"
    }
   ],
   "source": [
    "df_unique['Invoice Unit Cost (Transaction Line)'].sum()"
   ]
  },
  {
   "cell_type": "markdown",
   "id": "0cff9799",
   "metadata": {},
   "source": [
    "## Variables"
   ]
  },
  {
   "cell_type": "markdown",
   "id": "26351b24",
   "metadata": {},
   "source": [
    "### Costs"
   ]
  },
  {
   "cell_type": "code",
   "execution_count": 12,
   "id": "5ebbb1b6",
   "metadata": {},
   "outputs": [],
   "source": [
    "# CartRover Testing\n",
    "crt = 595\n",
    "# CartRover Monthly\n",
    "crm = 49\n",
    "# CommerceHub upgrade (max) if VAN\n",
    "chmax = 2250\n",
    "# Montly charge if VAN\n",
    "chmon = 20\n",
    "# CommerceHub upgrade (min)\n",
    "chmin = 1750"
   ]
  },
  {
   "cell_type": "markdown",
   "id": "59c08ccb",
   "metadata": {},
   "source": [
    "### Savings"
   ]
  },
  {
   "cell_type": "code",
   "execution_count": 13,
   "id": "122d5f2a",
   "metadata": {},
   "outputs": [],
   "source": [
    "# Orders from May 21 to May 22\n",
    "yearly_orders = 9850\n",
    "# Total Macy's Sales May 21 to May 22\n",
    "yearly_sales = 96362.85\n",
    "# Angela's overtime rate per minute\n",
    "otr = 17/60\n",
    "# monthly time spent assuming one minute per order\n",
    "mor = (yearly_orders/12)\n",
    "# Angela's cost times orders (per month)\n",
    "ac = otr*mor"
   ]
  },
  {
   "cell_type": "markdown",
   "id": "0484c750",
   "metadata": {},
   "source": [
    "## Potential Additonal Cost\n",
    "    - EDI VAN Processing: $ 0.06 per Kilo-character\n",
    "    - (Data transfer charges if an EDI VAN is required to transfer Subscriber’s data.)\n",
    "    - AS2: $ 500.00 one-time setup (per Partner ID)+ additional $20.00 per month (per Partner ID)   \n",
    "    - Alternate communication and reconfiguration:  $ 500.00\n"
   ]
  },
  {
   "cell_type": "code",
   "execution_count": 14,
   "id": "a7f500e9",
   "metadata": {},
   "outputs": [
    {
     "data": {
      "image/png": "[encoded data removed]",
      "text/plain": [
       "<Figure size 432x288 with 1 Axes>"
      ]
     },
     "metadata": {
      "needs_background": "light"
     },
     "output_type": "display_data"
    }
   ],
   "source": [
    "import matplotlib.pyplot as plt\n",
    "import numpy as np\n",
    "x = np.linspace(0,18,250)\n",
    "y = (chmon+crm)*x+chmin+crt\n",
    "plt.plot(x, y, '-r', label='Integration')\n",
    "plt.title('Graph of Minimum Integration Costs by month')\n",
    "plt.xlabel('x', color='#1C2833')\n",
    "plt.ylabel('y', color='#1C2833')\n",
    "plt.legend(loc='upper left')\n",
    "\n",
    "a = np.linspace(0,18,250)\n",
    "b = ac*a\n",
    "plt.plot(a, b, '-b', label='Savings')\n",
    "# plt.title('Graph of Integration Costs by month')\n",
    "plt.xlabel('Month')\n",
    "plt.ylabel('Cost $')\n",
    "plt.legend(loc='upper left')\n",
    "\n",
    "# pyplot.figtext(x, y, string)\n",
    "plt.figtext(0.29, 0.2, f\"Macy's orders {yearly_orders} and total sales: ${yearly_sales:,}\", fontsize = 11)\n",
    "\n",
    "plt.grid()\n",
    "plt.show()"
   ]
  },
  {
   "cell_type": "markdown",
   "id": "655db45b",
   "metadata": {},
   "source": [
    "## Assuming VAN costs from CommerceHub"
   ]
  },
  {
   "cell_type": "code",
   "execution_count": 15,
   "id": "24a92f74",
   "metadata": {},
   "outputs": [
    {
     "data": {
      "image/png": "[encoded data removed]",
      "text/plain": [
       "<Figure size 432x288 with 1 Axes>"
      ]
     },
     "metadata": {
      "needs_background": "light"
     },
     "output_type": "display_data"
    }
   ],
   "source": [
    "import matplotlib.pyplot as plt\n",
    "import numpy as np\n",
    "x = np.linspace(0,18,250)\n",
    "y = crm*x+chmax+crt\n",
    "plt.plot(x, y, '-r', label='Integration')\n",
    "plt.title('Graph of Maximum Integration Costs by month')\n",
    "plt.xlabel('x', color='#1C2833')\n",
    "plt.ylabel('y', color='#1C2833')\n",
    "plt.legend(loc='upper left')\n",
    "\n",
    "a = np.linspace(0,18,250)\n",
    "b = ac*a\n",
    "plt.plot(a, b, '-b', label='Savings')\n",
    "# plt.title('Graph of Integration Costs by month')\n",
    "plt.xlabel('Month')\n",
    "plt.ylabel('Cost $')\n",
    "plt.legend(loc='upper left')\n",
    "\n",
    "# pyplot.figtext(x, y, string)\n",
    "plt.figtext(0.29, 0.2, f\"Macy's orders {yearly_orders} and total sales: ${yearly_sales:,}\", fontsize = 11)\n",
    "\n",
    "plt.grid()\n",
    "plt.show()"
   ]
  },
  {
   "cell_type": "markdown",
   "id": "a5f3a1bd",
   "metadata": {},
   "source": [
    "### Charts measure orders from May '21 to May '22"
   ]
  }
 ],
 "metadata": {
  "kernelspec": {
   "display_name": "Python 3 (ipykernel)",
   "language": "python",
   "name": "python3"
  },
  "language_info": {
   "codemirror_mode": {
    "name": "ipython",
    "version": 3
   },
   "file_extension": ".py",
   "mimetype": "text/x-python",
   "name": "python",
   "nbconvert_exporter": "python",
   "pygments_lexer": "ipython3",
   "version": "3.9.7"
  }
 },
 "nbformat": 4,
 "nbformat_minor": 5
}
